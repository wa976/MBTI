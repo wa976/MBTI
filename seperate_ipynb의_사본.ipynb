{
  "nbformat": 4,
  "nbformat_minor": 0,
  "metadata": {
    "colab": {
      "provenance": []
    },
    "kernelspec": {
      "name": "python3",
      "display_name": "Python 3"
    },
    "language_info": {
      "name": "python"
    }
  },
  "cells": [
    {
      "cell_type": "code",
      "execution_count": null,
      "metadata": {
        "colab": {
          "base_uri": "https://localhost:8080/"
        },
        "id": "hN_T-hXFsW8-",
        "outputId": "42115b49-654f-46e9-846a-f20ee0559888"
      },
      "outputs": [
        {
          "output_type": "stream",
          "name": "stdout",
          "text": [
            "Mounted at /content/drive\n"
          ]
        }
      ],
      "source": [
        "#구글 드라이브에 연동\n",
        "\n",
        "import pandas as pd\n",
        "from google.colab import drive\n",
        "drive.mount('/content/drive')"
      ]
    },
    {
      "cell_type": "code",
      "source": [
        "# 데이터 불러오기\n",
        "data = pd.read_csv('/content/drive/MyDrive/kmong/mbti_test/data.csv',encoding= 'unicode_escape')"
      ],
      "metadata": {
        "id": "F0RwiKOCs_o8"
      },
      "execution_count": null,
      "outputs": []
    },
    {
      "cell_type": "code",
      "source": [
        "# 데이터 파악하기\n",
        "data.info()"
      ],
      "metadata": {
        "colab": {
          "base_uri": "https://localhost:8080/"
        },
        "id": "ovWFwRB2tPX1",
        "outputId": "afd6b048-8cbb-4e58-dd21-2cc9e3a18ca2"
      },
      "execution_count": null,
      "outputs": [
        {
          "output_type": "stream",
          "name": "stdout",
          "text": [
            "<class 'pandas.core.frame.DataFrame'>\n",
            "RangeIndex: 498 entries, 0 to 497\n",
            "Data columns (total 23 columns):\n",
            " #   Column      Non-Null Count  Dtype \n",
            "---  ------      --------------  ----- \n",
            " 0   Unnamed: 0  498 non-null    int64 \n",
            " 1   ¼ø¹ø        498 non-null    object\n",
            " 2   Q01         498 non-null    int64 \n",
            " 3   Q02         498 non-null    int64 \n",
            " 4   Q03         498 non-null    int64 \n",
            " 5   Q04         498 non-null    int64 \n",
            " 6   Q05         498 non-null    int64 \n",
            " 7   Q06         498 non-null    int64 \n",
            " 8   Q07         498 non-null    int64 \n",
            " 9   Q08         498 non-null    int64 \n",
            " 10  Q09         498 non-null    int64 \n",
            " 11  Q10         498 non-null    int64 \n",
            " 12  Q11         498 non-null    int64 \n",
            " 13  Q12         498 non-null    int64 \n",
            " 14  Q13         498 non-null    int64 \n",
            " 15  Q14         498 non-null    int64 \n",
            " 16  Q15         498 non-null    int64 \n",
            " 17  Q16         498 non-null    int64 \n",
            " 18  Q17         498 non-null    object\n",
            " 19  Q18         498 non-null    object\n",
            " 20  Q19         498 non-null    object\n",
            " 21  Q20         498 non-null    object\n",
            " 22  Q21         498 non-null    object\n",
            "dtypes: int64(17), object(6)\n",
            "memory usage: 89.6+ KB\n"
          ]
        }
      ]
    },
    {
      "cell_type": "code",
      "source": [
        "data.head(5)"
      ],
      "metadata": {
        "colab": {
          "base_uri": "https://localhost:8080/",
          "height": 404
        },
        "id": "51WpKuT2t6bC",
        "outputId": "514ea919-5510-4f13-acac-e9149766cdd9"
      },
      "execution_count": null,
      "outputs": [
        {
          "output_type": "execute_result",
          "data": {
            "text/plain": [
              "   Unnamed: 0                                               ¼ø¹ø  Q01  Q02  \\\n",
              "0           0  (¼ÕÀ¯°æ)1°­ÁÖÈÆ_440939_assignsubmission_file_M...    7    4   \n",
              "1           1  (ÀÌÀÇÁß)2°­ÁÖÈÆ_440939_assignsubmission_file_M...    5    3   \n",
              "2           2  (°­ÁÖÈÆ)3°­ÁÖÈÆ_440939_assignsubmission_file_M...    4    1   \n",
              "3           3  (À±ÁØÈ£)4°­ÁÖÈÆ_440939_assignsubmission_file_M...    6    5   \n",
              "4           4  (È«Ã¤¿ø)5°­ÁÖÈÆ_440939_assignsubmission_file_M...    7    4   \n",
              "\n",
              "   Q03  Q04  Q05  Q06  Q07  Q08  ...  Q12  Q13  Q14  Q15  Q16   Q17  Q18  Q19  \\\n",
              "0    6    5    5    7    3    7  ...    2    5    2    3    5  ESFJ    E    S   \n",
              "1    6    4    3    6    2    3  ...    7    2    3    3    1  ISTJ    I    S   \n",
              "2    6    1    1    6    4    2  ...    6    5    1    5    1  INFP    I    N   \n",
              "3    6    7    6    6    3    6  ...    2    7    2    1    1  ENTJ    E    N   \n",
              "4    3    7    6    7    1    7  ...    1    6    1    5    7  ENFJ    E    N   \n",
              "\n",
              "  Q20 Q21  \n",
              "0   F   J  \n",
              "1   T   J  \n",
              "2   F   P  \n",
              "3   T   J  \n",
              "4   F   J  \n",
              "\n",
              "[5 rows x 23 columns]"
            ],
            "text/html": [
              "\n",
              "  <div id=\"df-45c0c56a-f8e5-4688-a297-5fa5eb936dd4\">\n",
              "    <div class=\"colab-df-container\">\n",
              "      <div>\n",
              "<style scoped>\n",
              "    .dataframe tbody tr th:only-of-type {\n",
              "        vertical-align: middle;\n",
              "    }\n",
              "\n",
              "    .dataframe tbody tr th {\n",
              "        vertical-align: top;\n",
              "    }\n",
              "\n",
              "    .dataframe thead th {\n",
              "        text-align: right;\n",
              "    }\n",
              "</style>\n",
              "<table border=\"1\" class=\"dataframe\">\n",
              "  <thead>\n",
              "    <tr style=\"text-align: right;\">\n",
              "      <th></th>\n",
              "      <th>Unnamed: 0</th>\n",
              "      <th>¼ø¹ø</th>\n",
              "      <th>Q01</th>\n",
              "      <th>Q02</th>\n",
              "      <th>Q03</th>\n",
              "      <th>Q04</th>\n",
              "      <th>Q05</th>\n",
              "      <th>Q06</th>\n",
              "      <th>Q07</th>\n",
              "      <th>Q08</th>\n",
              "      <th>...</th>\n",
              "      <th>Q12</th>\n",
              "      <th>Q13</th>\n",
              "      <th>Q14</th>\n",
              "      <th>Q15</th>\n",
              "      <th>Q16</th>\n",
              "      <th>Q17</th>\n",
              "      <th>Q18</th>\n",
              "      <th>Q19</th>\n",
              "      <th>Q20</th>\n",
              "      <th>Q21</th>\n",
              "    </tr>\n",
              "  </thead>\n",
              "  <tbody>\n",
              "    <tr>\n",
              "      <th>0</th>\n",
              "      <td>0</td>\n",
              "      <td>(¼ÕÀ¯°æ)1°­ÁÖÈÆ_440939_assignsubmission_file_M...</td>\n",
              "      <td>7</td>\n",
              "      <td>4</td>\n",
              "      <td>6</td>\n",
              "      <td>5</td>\n",
              "      <td>5</td>\n",
              "      <td>7</td>\n",
              "      <td>3</td>\n",
              "      <td>7</td>\n",
              "      <td>...</td>\n",
              "      <td>2</td>\n",
              "      <td>5</td>\n",
              "      <td>2</td>\n",
              "      <td>3</td>\n",
              "      <td>5</td>\n",
              "      <td>ESFJ</td>\n",
              "      <td>E</td>\n",
              "      <td>S</td>\n",
              "      <td>F</td>\n",
              "      <td>J</td>\n",
              "    </tr>\n",
              "    <tr>\n",
              "      <th>1</th>\n",
              "      <td>1</td>\n",
              "      <td>(ÀÌÀÇÁß)2°­ÁÖÈÆ_440939_assignsubmission_file_M...</td>\n",
              "      <td>5</td>\n",
              "      <td>3</td>\n",
              "      <td>6</td>\n",
              "      <td>4</td>\n",
              "      <td>3</td>\n",
              "      <td>6</td>\n",
              "      <td>2</td>\n",
              "      <td>3</td>\n",
              "      <td>...</td>\n",
              "      <td>7</td>\n",
              "      <td>2</td>\n",
              "      <td>3</td>\n",
              "      <td>3</td>\n",
              "      <td>1</td>\n",
              "      <td>ISTJ</td>\n",
              "      <td>I</td>\n",
              "      <td>S</td>\n",
              "      <td>T</td>\n",
              "      <td>J</td>\n",
              "    </tr>\n",
              "    <tr>\n",
              "      <th>2</th>\n",
              "      <td>2</td>\n",
              "      <td>(°­ÁÖÈÆ)3°­ÁÖÈÆ_440939_assignsubmission_file_M...</td>\n",
              "      <td>4</td>\n",
              "      <td>1</td>\n",
              "      <td>6</td>\n",
              "      <td>1</td>\n",
              "      <td>1</td>\n",
              "      <td>6</td>\n",
              "      <td>4</td>\n",
              "      <td>2</td>\n",
              "      <td>...</td>\n",
              "      <td>6</td>\n",
              "      <td>5</td>\n",
              "      <td>1</td>\n",
              "      <td>5</td>\n",
              "      <td>1</td>\n",
              "      <td>INFP</td>\n",
              "      <td>I</td>\n",
              "      <td>N</td>\n",
              "      <td>F</td>\n",
              "      <td>P</td>\n",
              "    </tr>\n",
              "    <tr>\n",
              "      <th>3</th>\n",
              "      <td>3</td>\n",
              "      <td>(À±ÁØÈ£)4°­ÁÖÈÆ_440939_assignsubmission_file_M...</td>\n",
              "      <td>6</td>\n",
              "      <td>5</td>\n",
              "      <td>6</td>\n",
              "      <td>7</td>\n",
              "      <td>6</td>\n",
              "      <td>6</td>\n",
              "      <td>3</td>\n",
              "      <td>6</td>\n",
              "      <td>...</td>\n",
              "      <td>2</td>\n",
              "      <td>7</td>\n",
              "      <td>2</td>\n",
              "      <td>1</td>\n",
              "      <td>1</td>\n",
              "      <td>ENTJ</td>\n",
              "      <td>E</td>\n",
              "      <td>N</td>\n",
              "      <td>T</td>\n",
              "      <td>J</td>\n",
              "    </tr>\n",
              "    <tr>\n",
              "      <th>4</th>\n",
              "      <td>4</td>\n",
              "      <td>(È«Ã¤¿ø)5°­ÁÖÈÆ_440939_assignsubmission_file_M...</td>\n",
              "      <td>7</td>\n",
              "      <td>4</td>\n",
              "      <td>3</td>\n",
              "      <td>7</td>\n",
              "      <td>6</td>\n",
              "      <td>7</td>\n",
              "      <td>1</td>\n",
              "      <td>7</td>\n",
              "      <td>...</td>\n",
              "      <td>1</td>\n",
              "      <td>6</td>\n",
              "      <td>1</td>\n",
              "      <td>5</td>\n",
              "      <td>7</td>\n",
              "      <td>ENFJ</td>\n",
              "      <td>E</td>\n",
              "      <td>N</td>\n",
              "      <td>F</td>\n",
              "      <td>J</td>\n",
              "    </tr>\n",
              "  </tbody>\n",
              "</table>\n",
              "<p>5 rows × 23 columns</p>\n",
              "</div>\n",
              "      <button class=\"colab-df-convert\" onclick=\"convertToInteractive('df-45c0c56a-f8e5-4688-a297-5fa5eb936dd4')\"\n",
              "              title=\"Convert this dataframe to an interactive table.\"\n",
              "              style=\"display:none;\">\n",
              "        \n",
              "  <svg xmlns=\"http://www.w3.org/2000/svg\" height=\"24px\"viewBox=\"0 0 24 24\"\n",
              "       width=\"24px\">\n",
              "    <path d=\"M0 0h24v24H0V0z\" fill=\"none\"/>\n",
              "    <path d=\"M18.56 5.44l.94 2.06.94-2.06 2.06-.94-2.06-.94-.94-2.06-.94 2.06-2.06.94zm-11 1L8.5 8.5l.94-2.06 2.06-.94-2.06-.94L8.5 2.5l-.94 2.06-2.06.94zm10 10l.94 2.06.94-2.06 2.06-.94-2.06-.94-.94-2.06-.94 2.06-2.06.94z\"/><path d=\"M17.41 7.96l-1.37-1.37c-.4-.4-.92-.59-1.43-.59-.52 0-1.04.2-1.43.59L10.3 9.45l-7.72 7.72c-.78.78-.78 2.05 0 2.83L4 21.41c.39.39.9.59 1.41.59.51 0 1.02-.2 1.41-.59l7.78-7.78 2.81-2.81c.8-.78.8-2.07 0-2.86zM5.41 20L4 18.59l7.72-7.72 1.47 1.35L5.41 20z\"/>\n",
              "  </svg>\n",
              "      </button>\n",
              "      \n",
              "  <style>\n",
              "    .colab-df-container {\n",
              "      display:flex;\n",
              "      flex-wrap:wrap;\n",
              "      gap: 12px;\n",
              "    }\n",
              "\n",
              "    .colab-df-convert {\n",
              "      background-color: #E8F0FE;\n",
              "      border: none;\n",
              "      border-radius: 50%;\n",
              "      cursor: pointer;\n",
              "      display: none;\n",
              "      fill: #1967D2;\n",
              "      height: 32px;\n",
              "      padding: 0 0 0 0;\n",
              "      width: 32px;\n",
              "    }\n",
              "\n",
              "    .colab-df-convert:hover {\n",
              "      background-color: #E2EBFA;\n",
              "      box-shadow: 0px 1px 2px rgba(60, 64, 67, 0.3), 0px 1px 3px 1px rgba(60, 64, 67, 0.15);\n",
              "      fill: #174EA6;\n",
              "    }\n",
              "\n",
              "    [theme=dark] .colab-df-convert {\n",
              "      background-color: #3B4455;\n",
              "      fill: #D2E3FC;\n",
              "    }\n",
              "\n",
              "    [theme=dark] .colab-df-convert:hover {\n",
              "      background-color: #434B5C;\n",
              "      box-shadow: 0px 1px 3px 1px rgba(0, 0, 0, 0.15);\n",
              "      filter: drop-shadow(0px 1px 2px rgba(0, 0, 0, 0.3));\n",
              "      fill: #FFFFFF;\n",
              "    }\n",
              "  </style>\n",
              "\n",
              "      <script>\n",
              "        const buttonEl =\n",
              "          document.querySelector('#df-45c0c56a-f8e5-4688-a297-5fa5eb936dd4 button.colab-df-convert');\n",
              "        buttonEl.style.display =\n",
              "          google.colab.kernel.accessAllowed ? 'block' : 'none';\n",
              "\n",
              "        async function convertToInteractive(key) {\n",
              "          const element = document.querySelector('#df-45c0c56a-f8e5-4688-a297-5fa5eb936dd4');\n",
              "          const dataTable =\n",
              "            await google.colab.kernel.invokeFunction('convertToInteractive',\n",
              "                                                     [key], {});\n",
              "          if (!dataTable) return;\n",
              "\n",
              "          const docLinkHtml = 'Like what you see? Visit the ' +\n",
              "            '<a target=\"_blank\" href=https://colab.research.google.com/notebooks/data_table.ipynb>data table notebook</a>'\n",
              "            + ' to learn more about interactive tables.';\n",
              "          element.innerHTML = '';\n",
              "          dataTable['output_type'] = 'display_data';\n",
              "          await google.colab.output.renderOutput(dataTable, element);\n",
              "          const docLink = document.createElement('div');\n",
              "          docLink.innerHTML = docLinkHtml;\n",
              "          element.appendChild(docLink);\n",
              "        }\n",
              "      </script>\n",
              "    </div>\n",
              "  </div>\n",
              "  "
            ]
          },
          "metadata": {},
          "execution_count": 34
        }
      ]
    },
    {
      "cell_type": "code",
      "source": [
        "# 문자형 feature를 정수형으로 변경\n",
        "from sklearn.preprocessing import LabelEncoder\n",
        "\n",
        "lab_1=LabelEncoder()\n",
        "lab_2=LabelEncoder()\n",
        "lab_3=LabelEncoder()\n",
        "lab_4=LabelEncoder()\n",
        "\n",
        "data['Q18']=lab_1.fit_transform(data['Q18'])"
      ],
      "metadata": {
        "id": "YJPiWkTgt891"
      },
      "execution_count": null,
      "outputs": []
    },
    {
      "cell_type": "code",
      "source": [
        "data.info()"
      ],
      "metadata": {
        "colab": {
          "base_uri": "https://localhost:8080/"
        },
        "id": "buSs7-aVuQjE",
        "outputId": "765d32b6-3242-4b90-f576-41dafe249bfa"
      },
      "execution_count": null,
      "outputs": [
        {
          "output_type": "stream",
          "name": "stdout",
          "text": [
            "<class 'pandas.core.frame.DataFrame'>\n",
            "RangeIndex: 498 entries, 0 to 497\n",
            "Data columns (total 23 columns):\n",
            " #   Column      Non-Null Count  Dtype \n",
            "---  ------      --------------  ----- \n",
            " 0   Unnamed: 0  498 non-null    int64 \n",
            " 1   ¼ø¹ø        498 non-null    object\n",
            " 2   Q01         498 non-null    int64 \n",
            " 3   Q02         498 non-null    int64 \n",
            " 4   Q03         498 non-null    int64 \n",
            " 5   Q04         498 non-null    int64 \n",
            " 6   Q05         498 non-null    int64 \n",
            " 7   Q06         498 non-null    int64 \n",
            " 8   Q07         498 non-null    int64 \n",
            " 9   Q08         498 non-null    int64 \n",
            " 10  Q09         498 non-null    int64 \n",
            " 11  Q10         498 non-null    int64 \n",
            " 12  Q11         498 non-null    int64 \n",
            " 13  Q12         498 non-null    int64 \n",
            " 14  Q13         498 non-null    int64 \n",
            " 15  Q14         498 non-null    int64 \n",
            " 16  Q15         498 non-null    int64 \n",
            " 17  Q16         498 non-null    int64 \n",
            " 18  Q17         498 non-null    object\n",
            " 19  Q18         498 non-null    int64 \n",
            " 20  Q19         498 non-null    object\n",
            " 21  Q20         498 non-null    object\n",
            " 22  Q21         498 non-null    object\n",
            "dtypes: int64(18), object(5)\n",
            "memory usage: 89.6+ KB\n"
          ]
        }
      ]
    },
    {
      "cell_type": "code",
      "source": [
        "data.head(5)"
      ],
      "metadata": {
        "colab": {
          "base_uri": "https://localhost:8080/",
          "height": 404
        },
        "id": "rZBOT1fOvVoK",
        "outputId": "b715a547-1a9b-490d-89cd-b5c24422a9a1"
      },
      "execution_count": null,
      "outputs": [
        {
          "output_type": "execute_result",
          "data": {
            "text/plain": [
              "   Unnamed: 0                                               ¼ø¹ø  Q01  Q02  \\\n",
              "0           0  (¼ÕÀ¯°æ)1°­ÁÖÈÆ_440939_assignsubmission_file_M...    7    4   \n",
              "1           1  (ÀÌÀÇÁß)2°­ÁÖÈÆ_440939_assignsubmission_file_M...    5    3   \n",
              "2           2  (°­ÁÖÈÆ)3°­ÁÖÈÆ_440939_assignsubmission_file_M...    4    1   \n",
              "3           3  (À±ÁØÈ£)4°­ÁÖÈÆ_440939_assignsubmission_file_M...    6    5   \n",
              "4           4  (È«Ã¤¿ø)5°­ÁÖÈÆ_440939_assignsubmission_file_M...    7    4   \n",
              "\n",
              "   Q03  Q04  Q05  Q06  Q07  Q08  ...  Q12  Q13  Q14  Q15  Q16   Q17  Q18  Q19  \\\n",
              "0    6    5    5    7    3    7  ...    2    5    2    3    5  ESFJ    0    S   \n",
              "1    6    4    3    6    2    3  ...    7    2    3    3    1  ISTJ    1    S   \n",
              "2    6    1    1    6    4    2  ...    6    5    1    5    1  INFP    1    N   \n",
              "3    6    7    6    6    3    6  ...    2    7    2    1    1  ENTJ    0    N   \n",
              "4    3    7    6    7    1    7  ...    1    6    1    5    7  ENFJ    0    N   \n",
              "\n",
              "  Q20  Q21  \n",
              "0   F    J  \n",
              "1   T    J  \n",
              "2   F    P  \n",
              "3   T    J  \n",
              "4   F    J  \n",
              "\n",
              "[5 rows x 23 columns]"
            ],
            "text/html": [
              "\n",
              "  <div id=\"df-e54bf8de-f9c0-4dfe-a9d4-8998319b5ae7\">\n",
              "    <div class=\"colab-df-container\">\n",
              "      <div>\n",
              "<style scoped>\n",
              "    .dataframe tbody tr th:only-of-type {\n",
              "        vertical-align: middle;\n",
              "    }\n",
              "\n",
              "    .dataframe tbody tr th {\n",
              "        vertical-align: top;\n",
              "    }\n",
              "\n",
              "    .dataframe thead th {\n",
              "        text-align: right;\n",
              "    }\n",
              "</style>\n",
              "<table border=\"1\" class=\"dataframe\">\n",
              "  <thead>\n",
              "    <tr style=\"text-align: right;\">\n",
              "      <th></th>\n",
              "      <th>Unnamed: 0</th>\n",
              "      <th>¼ø¹ø</th>\n",
              "      <th>Q01</th>\n",
              "      <th>Q02</th>\n",
              "      <th>Q03</th>\n",
              "      <th>Q04</th>\n",
              "      <th>Q05</th>\n",
              "      <th>Q06</th>\n",
              "      <th>Q07</th>\n",
              "      <th>Q08</th>\n",
              "      <th>...</th>\n",
              "      <th>Q12</th>\n",
              "      <th>Q13</th>\n",
              "      <th>Q14</th>\n",
              "      <th>Q15</th>\n",
              "      <th>Q16</th>\n",
              "      <th>Q17</th>\n",
              "      <th>Q18</th>\n",
              "      <th>Q19</th>\n",
              "      <th>Q20</th>\n",
              "      <th>Q21</th>\n",
              "    </tr>\n",
              "  </thead>\n",
              "  <tbody>\n",
              "    <tr>\n",
              "      <th>0</th>\n",
              "      <td>0</td>\n",
              "      <td>(¼ÕÀ¯°æ)1°­ÁÖÈÆ_440939_assignsubmission_file_M...</td>\n",
              "      <td>7</td>\n",
              "      <td>4</td>\n",
              "      <td>6</td>\n",
              "      <td>5</td>\n",
              "      <td>5</td>\n",
              "      <td>7</td>\n",
              "      <td>3</td>\n",
              "      <td>7</td>\n",
              "      <td>...</td>\n",
              "      <td>2</td>\n",
              "      <td>5</td>\n",
              "      <td>2</td>\n",
              "      <td>3</td>\n",
              "      <td>5</td>\n",
              "      <td>ESFJ</td>\n",
              "      <td>0</td>\n",
              "      <td>S</td>\n",
              "      <td>F</td>\n",
              "      <td>J</td>\n",
              "    </tr>\n",
              "    <tr>\n",
              "      <th>1</th>\n",
              "      <td>1</td>\n",
              "      <td>(ÀÌÀÇÁß)2°­ÁÖÈÆ_440939_assignsubmission_file_M...</td>\n",
              "      <td>5</td>\n",
              "      <td>3</td>\n",
              "      <td>6</td>\n",
              "      <td>4</td>\n",
              "      <td>3</td>\n",
              "      <td>6</td>\n",
              "      <td>2</td>\n",
              "      <td>3</td>\n",
              "      <td>...</td>\n",
              "      <td>7</td>\n",
              "      <td>2</td>\n",
              "      <td>3</td>\n",
              "      <td>3</td>\n",
              "      <td>1</td>\n",
              "      <td>ISTJ</td>\n",
              "      <td>1</td>\n",
              "      <td>S</td>\n",
              "      <td>T</td>\n",
              "      <td>J</td>\n",
              "    </tr>\n",
              "    <tr>\n",
              "      <th>2</th>\n",
              "      <td>2</td>\n",
              "      <td>(°­ÁÖÈÆ)3°­ÁÖÈÆ_440939_assignsubmission_file_M...</td>\n",
              "      <td>4</td>\n",
              "      <td>1</td>\n",
              "      <td>6</td>\n",
              "      <td>1</td>\n",
              "      <td>1</td>\n",
              "      <td>6</td>\n",
              "      <td>4</td>\n",
              "      <td>2</td>\n",
              "      <td>...</td>\n",
              "      <td>6</td>\n",
              "      <td>5</td>\n",
              "      <td>1</td>\n",
              "      <td>5</td>\n",
              "      <td>1</td>\n",
              "      <td>INFP</td>\n",
              "      <td>1</td>\n",
              "      <td>N</td>\n",
              "      <td>F</td>\n",
              "      <td>P</td>\n",
              "    </tr>\n",
              "    <tr>\n",
              "      <th>3</th>\n",
              "      <td>3</td>\n",
              "      <td>(À±ÁØÈ£)4°­ÁÖÈÆ_440939_assignsubmission_file_M...</td>\n",
              "      <td>6</td>\n",
              "      <td>5</td>\n",
              "      <td>6</td>\n",
              "      <td>7</td>\n",
              "      <td>6</td>\n",
              "      <td>6</td>\n",
              "      <td>3</td>\n",
              "      <td>6</td>\n",
              "      <td>...</td>\n",
              "      <td>2</td>\n",
              "      <td>7</td>\n",
              "      <td>2</td>\n",
              "      <td>1</td>\n",
              "      <td>1</td>\n",
              "      <td>ENTJ</td>\n",
              "      <td>0</td>\n",
              "      <td>N</td>\n",
              "      <td>T</td>\n",
              "      <td>J</td>\n",
              "    </tr>\n",
              "    <tr>\n",
              "      <th>4</th>\n",
              "      <td>4</td>\n",
              "      <td>(È«Ã¤¿ø)5°­ÁÖÈÆ_440939_assignsubmission_file_M...</td>\n",
              "      <td>7</td>\n",
              "      <td>4</td>\n",
              "      <td>3</td>\n",
              "      <td>7</td>\n",
              "      <td>6</td>\n",
              "      <td>7</td>\n",
              "      <td>1</td>\n",
              "      <td>7</td>\n",
              "      <td>...</td>\n",
              "      <td>1</td>\n",
              "      <td>6</td>\n",
              "      <td>1</td>\n",
              "      <td>5</td>\n",
              "      <td>7</td>\n",
              "      <td>ENFJ</td>\n",
              "      <td>0</td>\n",
              "      <td>N</td>\n",
              "      <td>F</td>\n",
              "      <td>J</td>\n",
              "    </tr>\n",
              "  </tbody>\n",
              "</table>\n",
              "<p>5 rows × 23 columns</p>\n",
              "</div>\n",
              "      <button class=\"colab-df-convert\" onclick=\"convertToInteractive('df-e54bf8de-f9c0-4dfe-a9d4-8998319b5ae7')\"\n",
              "              title=\"Convert this dataframe to an interactive table.\"\n",
              "              style=\"display:none;\">\n",
              "        \n",
              "  <svg xmlns=\"http://www.w3.org/2000/svg\" height=\"24px\"viewBox=\"0 0 24 24\"\n",
              "       width=\"24px\">\n",
              "    <path d=\"M0 0h24v24H0V0z\" fill=\"none\"/>\n",
              "    <path d=\"M18.56 5.44l.94 2.06.94-2.06 2.06-.94-2.06-.94-.94-2.06-.94 2.06-2.06.94zm-11 1L8.5 8.5l.94-2.06 2.06-.94-2.06-.94L8.5 2.5l-.94 2.06-2.06.94zm10 10l.94 2.06.94-2.06 2.06-.94-2.06-.94-.94-2.06-.94 2.06-2.06.94z\"/><path d=\"M17.41 7.96l-1.37-1.37c-.4-.4-.92-.59-1.43-.59-.52 0-1.04.2-1.43.59L10.3 9.45l-7.72 7.72c-.78.78-.78 2.05 0 2.83L4 21.41c.39.39.9.59 1.41.59.51 0 1.02-.2 1.41-.59l7.78-7.78 2.81-2.81c.8-.78.8-2.07 0-2.86zM5.41 20L4 18.59l7.72-7.72 1.47 1.35L5.41 20z\"/>\n",
              "  </svg>\n",
              "      </button>\n",
              "      \n",
              "  <style>\n",
              "    .colab-df-container {\n",
              "      display:flex;\n",
              "      flex-wrap:wrap;\n",
              "      gap: 12px;\n",
              "    }\n",
              "\n",
              "    .colab-df-convert {\n",
              "      background-color: #E8F0FE;\n",
              "      border: none;\n",
              "      border-radius: 50%;\n",
              "      cursor: pointer;\n",
              "      display: none;\n",
              "      fill: #1967D2;\n",
              "      height: 32px;\n",
              "      padding: 0 0 0 0;\n",
              "      width: 32px;\n",
              "    }\n",
              "\n",
              "    .colab-df-convert:hover {\n",
              "      background-color: #E2EBFA;\n",
              "      box-shadow: 0px 1px 2px rgba(60, 64, 67, 0.3), 0px 1px 3px 1px rgba(60, 64, 67, 0.15);\n",
              "      fill: #174EA6;\n",
              "    }\n",
              "\n",
              "    [theme=dark] .colab-df-convert {\n",
              "      background-color: #3B4455;\n",
              "      fill: #D2E3FC;\n",
              "    }\n",
              "\n",
              "    [theme=dark] .colab-df-convert:hover {\n",
              "      background-color: #434B5C;\n",
              "      box-shadow: 0px 1px 3px 1px rgba(0, 0, 0, 0.15);\n",
              "      filter: drop-shadow(0px 1px 2px rgba(0, 0, 0, 0.3));\n",
              "      fill: #FFFFFF;\n",
              "    }\n",
              "  </style>\n",
              "\n",
              "      <script>\n",
              "        const buttonEl =\n",
              "          document.querySelector('#df-e54bf8de-f9c0-4dfe-a9d4-8998319b5ae7 button.colab-df-convert');\n",
              "        buttonEl.style.display =\n",
              "          google.colab.kernel.accessAllowed ? 'block' : 'none';\n",
              "\n",
              "        async function convertToInteractive(key) {\n",
              "          const element = document.querySelector('#df-e54bf8de-f9c0-4dfe-a9d4-8998319b5ae7');\n",
              "          const dataTable =\n",
              "            await google.colab.kernel.invokeFunction('convertToInteractive',\n",
              "                                                     [key], {});\n",
              "          if (!dataTable) return;\n",
              "\n",
              "          const docLinkHtml = 'Like what you see? Visit the ' +\n",
              "            '<a target=\"_blank\" href=https://colab.research.google.com/notebooks/data_table.ipynb>data table notebook</a>'\n",
              "            + ' to learn more about interactive tables.';\n",
              "          element.innerHTML = '';\n",
              "          dataTable['output_type'] = 'display_data';\n",
              "          await google.colab.output.renderOutput(dataTable, element);\n",
              "          const docLink = document.createElement('div');\n",
              "          docLink.innerHTML = docLinkHtml;\n",
              "          element.appendChild(docLink);\n",
              "        }\n",
              "      </script>\n",
              "    </div>\n",
              "  </div>\n",
              "  "
            ]
          },
          "metadata": {},
          "execution_count": 37
        }
      ]
    },
    {
      "cell_type": "code",
      "source": [
        "# X데이터와 y데이터 설정 (E/I)\n",
        "\n",
        "features = ['Q01','Q08','Q12','Q13','Q16']\n",
        "target = ['Q18']\n",
        "\n",
        "X = data[features]\n",
        "y = data[target].to_numpy()\n"
      ],
      "metadata": {
        "id": "1-wiPwV8uSUH"
      },
      "execution_count": null,
      "outputs": []
    },
    {
      "cell_type": "code",
      "source": [
        "# train,test 데이터로 분리\n",
        "from sklearn.model_selection import train_test_split\n",
        "\n",
        "X_train, X_test, y_train, y_test = train_test_split(X, y, test_size=0.3, random_state=42)"
      ],
      "metadata": {
        "id": "uDfgO5inu8lC"
      },
      "execution_count": null,
      "outputs": []
    },
    {
      "cell_type": "code",
      "source": [
        "# DecisionTree\n",
        "from sklearn.tree import DecisionTreeClassifier\n",
        "\n",
        "parameters = {\"max_depth\": [1,2,3,4,10,20,30,100,None]}\n",
        "\n",
        "decision_tree = DecisionTreeClassifier(criterion=\"gini\", min_samples_split = 2)"
      ],
      "metadata": {
        "id": "0RM5dkFbvNGM"
      },
      "execution_count": null,
      "outputs": []
    },
    {
      "cell_type": "code",
      "source": [
        "# 최적의 파라미터 찾기\n",
        "from sklearn.model_selection import GridSearchCV\n",
        "\n",
        "grid_search = GridSearchCV(decision_tree, parameters, n_jobs = -1, cv=3, scoring=\"roc_auc\")"
      ],
      "metadata": {
        "id": "bwNlILB-vnvD"
      },
      "execution_count": null,
      "outputs": []
    },
    {
      "cell_type": "code",
      "source": [
        "grid_search.fit(X_train, y_train)"
      ],
      "metadata": {
        "colab": {
          "base_uri": "https://localhost:8080/"
        },
        "id": "jXGqGGPXv6vi",
        "outputId": "480f1867-b775-4857-9666-1cf0fbe25218"
      },
      "execution_count": null,
      "outputs": [
        {
          "output_type": "execute_result",
          "data": {
            "text/plain": [
              "GridSearchCV(cv=3, estimator=DecisionTreeClassifier(), n_jobs=-1,\n",
              "             param_grid={'max_depth': [1, 2, 3, 4, 10, 20, 30, 100, None]},\n",
              "             scoring='roc_auc')"
            ]
          },
          "metadata": {},
          "execution_count": 42
        }
      ]
    },
    {
      "cell_type": "code",
      "source": [
        "grid_search.best_params_"
      ],
      "metadata": {
        "colab": {
          "base_uri": "https://localhost:8080/"
        },
        "id": "KJ-1RCtMwHU0",
        "outputId": "79a5752c-748d-4c18-8e04-08a341f02e1c"
      },
      "execution_count": null,
      "outputs": [
        {
          "output_type": "execute_result",
          "data": {
            "text/plain": [
              "{'max_depth': 3}"
            ]
          },
          "metadata": {},
          "execution_count": 43
        }
      ]
    },
    {
      "cell_type": "code",
      "source": [
        "decision_tree_best = grid_search.best_estimator_"
      ],
      "metadata": {
        "id": "tHNHU2qhwK11"
      },
      "execution_count": null,
      "outputs": []
    },
    {
      "cell_type": "code",
      "source": [
        "y_pred = decision_tree_best.predict(X_test)"
      ],
      "metadata": {
        "id": "1gJ1xPUbwsvS"
      },
      "execution_count": null,
      "outputs": []
    },
    {
      "cell_type": "code",
      "source": [
        "from sklearn.metrics import accuracy_score\n",
        "\n",
        "accuracy_score(y_test, y_pred)"
      ],
      "metadata": {
        "colab": {
          "base_uri": "https://localhost:8080/"
        },
        "id": "zshXs5zYwzNE",
        "outputId": "ffa48767-e58c-4a9a-d9de-4149f8b2ea12"
      },
      "execution_count": null,
      "outputs": [
        {
          "output_type": "execute_result",
          "data": {
            "text/plain": [
              "0.78"
            ]
          },
          "metadata": {},
          "execution_count": 46
        }
      ]
    },
    {
      "cell_type": "code",
      "source": [
        "from sklearn.metrics import confusion_matrix\n",
        "\n",
        "confusion_matrix(y_test, y_pred)"
      ],
      "metadata": {
        "colab": {
          "base_uri": "https://localhost:8080/"
        },
        "id": "Rsyskgb-w9rz",
        "outputId": "15377586-3b2a-429c-abd0-03b6ff88fd8c"
      },
      "execution_count": null,
      "outputs": [
        {
          "output_type": "execute_result",
          "data": {
            "text/plain": [
              "array([[48, 21],\n",
              "       [12, 69]])"
            ]
          },
          "metadata": {},
          "execution_count": 47
        }
      ]
    },
    {
      "cell_type": "code",
      "source": [
        "# RandomForest 모델\n",
        "from sklearn.ensemble import RandomForestClassifier\n",
        "random_forest = RandomForestClassifier(n_estimators = 300, min_samples_split=30, n_jobs =-1)\n",
        "random_forest.fit(X_train,y_train)"
      ],
      "metadata": {
        "colab": {
          "base_uri": "https://localhost:8080/"
        },
        "id": "lbxU07uyxnVn",
        "outputId": "76ce495b-07f9-43fc-d1f6-7bc699bcf0f3"
      },
      "execution_count": null,
      "outputs": [
        {
          "output_type": "execute_result",
          "data": {
            "text/plain": [
              "RandomForestClassifier(min_samples_split=30, n_estimators=300, n_jobs=-1)"
            ]
          },
          "metadata": {},
          "execution_count": 48
        }
      ]
    },
    {
      "cell_type": "code",
      "source": [
        "grid_search = GridSearchCV(random_forest,parameters, n_jobs = -1, cv=3, scoring=\"roc_auc\")"
      ],
      "metadata": {
        "id": "4LQwEvwxyBYD"
      },
      "execution_count": null,
      "outputs": []
    },
    {
      "cell_type": "code",
      "source": [
        "grid_search.fit(X_train,y_train)"
      ],
      "metadata": {
        "colab": {
          "base_uri": "https://localhost:8080/"
        },
        "id": "TCr9tuNuyrRz",
        "outputId": "f19ec299-ece4-4fab-cadc-1458f4cb78c2"
      },
      "execution_count": null,
      "outputs": [
        {
          "output_type": "execute_result",
          "data": {
            "text/plain": [
              "GridSearchCV(cv=3,\n",
              "             estimator=RandomForestClassifier(min_samples_split=30,\n",
              "                                              n_estimators=300, n_jobs=-1),\n",
              "             n_jobs=-1,\n",
              "             param_grid={'max_depth': [1, 2, 3, 4, 10, 20, 30, 100, None]},\n",
              "             scoring='roc_auc')"
            ]
          },
          "metadata": {},
          "execution_count": 50
        }
      ]
    },
    {
      "cell_type": "code",
      "source": [
        "grid_search.best_params_"
      ],
      "metadata": {
        "colab": {
          "base_uri": "https://localhost:8080/"
        },
        "id": "HUDOght9ywEx",
        "outputId": "32892e2c-ac3e-42bc-cefe-2ff534ee18b1"
      },
      "execution_count": null,
      "outputs": [
        {
          "output_type": "execute_result",
          "data": {
            "text/plain": [
              "{'max_depth': 4}"
            ]
          },
          "metadata": {},
          "execution_count": 51
        }
      ]
    },
    {
      "cell_type": "code",
      "source": [
        "random_forest_best_1 = grid_search.best_estimator_"
      ],
      "metadata": {
        "id": "9hmcffl2y3GD"
      },
      "execution_count": null,
      "outputs": []
    },
    {
      "cell_type": "code",
      "source": [
        "y_pred = random_forest_best_1.predict(X_test)"
      ],
      "metadata": {
        "id": "sB5Ke32_y6ES"
      },
      "execution_count": null,
      "outputs": []
    },
    {
      "cell_type": "code",
      "source": [
        "accuracy_score(y_test,y_pred)"
      ],
      "metadata": {
        "colab": {
          "base_uri": "https://localhost:8080/"
        },
        "id": "O-zst9uKy-Bx",
        "outputId": "42d4e87c-5af3-4669-9673-0fd11903a233"
      },
      "execution_count": null,
      "outputs": [
        {
          "output_type": "execute_result",
          "data": {
            "text/plain": [
              "0.7733333333333333"
            ]
          },
          "metadata": {},
          "execution_count": 54
        }
      ]
    },
    {
      "cell_type": "code",
      "source": [
        "# 새롭게 input을 입력하여 mbti 출력\n",
        "answer = [[1,1,1,1,1]]\n",
        "my_predict = random_forest_best_1.predict(answer)\n",
        "print('First letter of MBTI is : ', lab_1.inverse_transform(my_predict))\n"
      ],
      "metadata": {
        "colab": {
          "base_uri": "https://localhost:8080/"
        },
        "id": "57WJyH-t2X6B",
        "outputId": "f1e5003f-a7c6-4c2f-daca-7c007c470916"
      },
      "execution_count": null,
      "outputs": [
        {
          "output_type": "stream",
          "name": "stdout",
          "text": [
            "First letter of MBTI is :  ['I']\n"
          ]
        }
      ]
    },
    {
      "cell_type": "code",
      "source": [
        "#ROC curve\n",
        "\n",
        "from sklearn.metrics import roc_curve, roc_auc_score\n",
        "import matplotlib.pyplot as plt\n",
        "%matplotlib inline \n",
        "\n",
        "y_pred_proba = random_forest_best_1.predict_proba(X_test)[:, 1]\n",
        "\n",
        "fpr, tpr, _ = roc_curve(y_test, y_pred_proba)\n",
        "\n",
        "auc= roc_auc_score(y_test, y_pred_proba)\n",
        "\n",
        "plt.plot(fpr, tpr, \"r-\", label=\"RandomForestClassifier\")\n",
        "plt.plot([0,1],[0,1],\"b--\", label=\"random guess\")\n",
        "plt.xlabel(\"false positive rate\")\n",
        "plt.ylabel(\"true positive rate\")\n",
        "plt.title(\"AUC={0:.2f}\".format(auc))\n",
        "plt.legend(loc=\"lower right\")"
      ],
      "metadata": {
        "colab": {
          "base_uri": "https://localhost:8080/",
          "height": 313
        },
        "id": "CCNh_4D-vmrD",
        "outputId": "3e78c163-6191-4d8f-977a-d05dfaad312d"
      },
      "execution_count": null,
      "outputs": [
        {
          "output_type": "execute_result",
          "data": {
            "text/plain": [
              "<matplotlib.legend.Legend at 0x7f964bd80970>"
            ]
          },
          "metadata": {},
          "execution_count": 63
        },
        {
          "output_type": "display_data",
          "data": {
            "text/plain": [
              "<Figure size 432x288 with 1 Axes>"
            ],
            "image/png": "[encoded data removed]"
          },
          "metadata": {
            "needs_background": "light"
          }
        }
      ]
    },
    {
      "cell_type": "code",
      "source": [
        "# MBTI 두번째 letter (N/S)\n",
        "data = pd.read_csv('/content/drive/MyDrive/kmong/mbti_test/data.csv',encoding= 'unicode_escape')\n",
        "\n",
        "data['Q19']=lab_2.fit_transform(data['Q19'])\n",
        "\n",
        "features = ['Q02','Q07','Q14','Q15']\n",
        "target = ['Q19']\n",
        "\n",
        "# Split into test and train\n",
        "X = data[features]\n",
        "y = data[target].to_numpy()\n",
        "\n",
        "\n",
        "X_train, X_test, y_train, y_test = train_test_split(X, y, test_size=0.3, random_state=42)\n",
        "\n",
        "\n",
        "\n",
        "random_forest = RandomForestClassifier(n_estimators = 300, min_samples_split=30, n_jobs =-1)\n",
        "random_forest.fit(X_train,y_train)\n",
        "\n",
        "\n",
        "grid_search = GridSearchCV(random_forest,parameters, n_jobs = -1, cv=3, scoring=\"roc_auc\")\n",
        "\n",
        "\n",
        "grid_search.fit(X_train,y_train)\n",
        "\n",
        "grid_search.best_params_\n",
        "\n",
        "random_forest_best_2 = grid_search.best_estimator_\n",
        "\n",
        "y_pred = random_forest_best_2.predict(X_test)\n",
        "\n",
        "print(accuracy_score(y_test,y_pred))\n",
        "\n",
        "answer = [[7,1,1,1]]\n",
        "my_predict = random_forest_best_2.predict(answer)\n",
        "print('Second letter of MBTI is : ', lab_2.inverse_transform(my_predict))\n",
        "\n",
        "\n",
        "from sklearn.metrics import roc_curve, roc_auc_score\n",
        "import matplotlib.pyplot as plt\n",
        "%matplotlib inline \n",
        "\n",
        "y_pred_proba = random_forest_best_2.predict_proba(X_test)[:, 1]\n",
        "\n",
        "fpr, tpr, _ = roc_curve(y_test, y_pred_proba)\n",
        "\n",
        "auc= roc_auc_score(y_test, y_pred_proba)\n",
        "\n",
        "plt.plot(fpr, tpr, \"r-\", label=\"RandomForestClassifier\")\n",
        "plt.plot([0,1],[0,1],\"b--\", label=\"random guess\")\n",
        "plt.xlabel(\"false positive rate\")\n",
        "plt.ylabel(\"true positive rate\")\n",
        "plt.title(\"AUC={0:.2f}\".format(auc))\n",
        "plt.legend(loc=\"lower right\")"
      ],
      "metadata": {
        "colab": {
          "base_uri": "https://localhost:8080/",
          "height": 349
        },
        "id": "7z38gSRC6flQ",
        "outputId": "a112237f-87c5-45a7-e7b7-894801f561b8"
      },
      "execution_count": null,
      "outputs": [
        {
          "output_type": "stream",
          "name": "stdout",
          "text": [
            "0.62\n",
            "Second letter of MBTI is :  ['S']\n"
          ]
        },
        {
          "output_type": "execute_result",
          "data": {
            "text/plain": [
              "<matplotlib.legend.Legend at 0x7f964ccef280>"
            ]
          },
          "metadata": {},
          "execution_count": 64
        },
        {
          "output_type": "display_data",
          "data": {
            "text/plain": [
              "<Figure size 432x288 with 1 Axes>"
            ],
            "image/png": "[encoded data removed]"
          },
          "metadata": {
            "needs_background": "light"
          }
        }
      ]
    },
    {
      "cell_type": "code",
      "source": [
        "# MBTI 세번째 letter (T/F)\n",
        "data = pd.read_csv('/content/drive/MyDrive/kmong/mbti_test/data.csv',encoding= 'unicode_escape')\n",
        "\n",
        "data['Q20']=lab_3.fit_transform(data['Q20'])\n",
        "\n",
        "features = ['Q03','Q06','Q10']\n",
        "target = ['Q20']\n",
        "\n",
        "# Split into test and train\n",
        "X = data[features]\n",
        "y = data[target].to_numpy()\n",
        "\n",
        "\n",
        "X_train, X_test, y_train, y_test = train_test_split(X, y, test_size=0.3, random_state=42)\n",
        "\n",
        "\n",
        "\n",
        "random_forest = RandomForestClassifier(n_estimators = 300, min_samples_split=30, n_jobs =-1)\n",
        "random_forest.fit(X_train,y_train)\n",
        "\n",
        "\n",
        "grid_search = GridSearchCV(random_forest,parameters, n_jobs = -1, cv=3, scoring=\"roc_auc\")\n",
        "\n",
        "\n",
        "grid_search.fit(X_train,y_train)\n",
        "\n",
        "grid_search.best_params_\n",
        "\n",
        "random_forest_best_3 = grid_search.best_estimator_\n",
        "\n",
        "y_pred = random_forest_best_3.predict(X_test)\n",
        "\n",
        "print(accuracy_score(y_test,y_pred))\n",
        "\n",
        "answer = [[7,1,1]]\n",
        "my_predict = random_forest_best_3.predict(answer)\n",
        "print('Third letter of MBTI is : ', lab_3.inverse_transform(my_predict))\n",
        "\n",
        "from sklearn.metrics import roc_curve, roc_auc_score\n",
        "import matplotlib.pyplot as plt\n",
        "%matplotlib inline \n",
        "\n",
        "y_pred_proba = random_forest_best_3.predict_proba(X_test)[:, 1]\n",
        "\n",
        "fpr, tpr, _ = roc_curve(y_test, y_pred_proba)\n",
        "\n",
        "auc= roc_auc_score(y_test, y_pred_proba)\n",
        "\n",
        "plt.plot(fpr, tpr, \"r-\", label=\"RandomForestClassifier\")\n",
        "plt.plot([0,1],[0,1],\"b--\", label=\"random guess\")\n",
        "plt.xlabel(\"false positive rate\")\n",
        "plt.ylabel(\"true positive rate\")\n",
        "plt.title(\"AUC={0:.2f}\".format(auc))\n",
        "plt.legend(loc=\"lower right\")"
      ],
      "metadata": {
        "colab": {
          "base_uri": "https://localhost:8080/",
          "height": 349
        },
        "id": "OLD8uGJe6fiR",
        "outputId": "7f9c1883-0a66-45f6-aac0-6375cb1609e6"
      },
      "execution_count": null,
      "outputs": [
        {
          "output_type": "stream",
          "name": "stdout",
          "text": [
            "0.6333333333333333\n",
            "Third letter of MBTI is :  ['T']\n"
          ]
        },
        {
          "output_type": "execute_result",
          "data": {
            "text/plain": [
              "<matplotlib.legend.Legend at 0x7f964a260190>"
            ]
          },
          "metadata": {},
          "execution_count": 65
        },
        {
          "output_type": "display_data",
          "data": {
            "text/plain": [
              "<Figure size 432x288 with 1 Axes>"
            ],
            "image/png": "[encoded data removed]"
          },
          "metadata": {
            "needs_background": "light"
          }
        }
      ]
    },
    {
      "cell_type": "code",
      "source": [
        "# MBTI 세번째 letter (P/J)\n",
        "\n",
        "data = pd.read_csv('/content/drive/MyDrive/kmong/mbti_test/data.csv',encoding= 'unicode_escape')\n",
        "\n",
        "data['Q21']=lab_4.fit_transform(data['Q21'])\n",
        "\n",
        "features = ['Q04','Q05','Q09','Q11']\n",
        "target = ['Q21']\n",
        "\n",
        "# Split into test and train\n",
        "X = data[features]\n",
        "y = data[target].to_numpy()\n",
        "\n",
        "X_train, X_test, y_train, y_test = train_test_split(X, y, test_size=0.3, random_state=42)\n",
        "\n",
        "\n",
        "\n",
        "random_forest = RandomForestClassifier(n_estimators = 300, min_samples_split=30, n_jobs =-1)\n",
        "random_forest.fit(X_train,y_train)\n",
        "\n",
        "\n",
        "grid_search = GridSearchCV(random_forest,parameters, n_jobs = -1, cv=3, scoring=\"roc_auc\")\n",
        "\n",
        "\n",
        "grid_search.fit(X_train,y_train)\n",
        "\n",
        "grid_search.best_params_\n",
        "\n",
        "random_forest_best_4 = grid_search.best_estimator_\n",
        "\n",
        "y_pred = random_forest_best_4.predict(X_test)\n",
        "\n",
        "print(accuracy_score(y_test,y_pred))\n",
        "\n",
        "answer = [[7,1,1,1]]\n",
        "my_predict = random_forest_best_4.predict(answer)\n",
        "print('Fourth letter of MBTI is : ', lab_4.inverse_transform(my_predict))\n",
        "\n",
        "from sklearn.metrics import roc_curve, roc_auc_score\n",
        "import matplotlib.pyplot as plt\n",
        "%matplotlib inline \n",
        "\n",
        "y_pred_proba = random_forest_best_4.predict_proba(X_test)[:, 1]\n",
        "\n",
        "fpr, tpr, _ = roc_curve(y_test, y_pred_proba)\n",
        "\n",
        "auc= roc_auc_score(y_test, y_pred_proba)\n",
        "\n",
        "plt.plot(fpr, tpr, \"r-\", label=\"RandomForestClassifier\")\n",
        "plt.plot([0,1],[0,1],\"b--\", label=\"random guess\")\n",
        "plt.xlabel(\"false positive rate\")\n",
        "plt.ylabel(\"true positive rate\")\n",
        "plt.title(\"AUC={0:.2f}\".format(auc))\n",
        "plt.legend(loc=\"lower right\")"
      ],
      "metadata": {
        "colab": {
          "base_uri": "https://localhost:8080/",
          "height": 349
        },
        "id": "XQ0Fl_ll6fdQ",
        "outputId": "42f3cbda-96ab-47d5-cf1e-86d4be3c889e"
      },
      "execution_count": null,
      "outputs": [
        {
          "output_type": "stream",
          "name": "stdout",
          "text": [
            "0.78\n",
            "Fourth letter of MBTI is :  ['J']\n"
          ]
        },
        {
          "output_type": "execute_result",
          "data": {
            "text/plain": [
              "<matplotlib.legend.Legend at 0x7f9655ce3c70>"
            ]
          },
          "metadata": {},
          "execution_count": 66
        },
        {
          "output_type": "display_data",
          "data": {
            "text/plain": [
              "<Figure size 432x288 with 1 Axes>"
            ],
            "image/png": "[encoded data removed]"
          },
          "metadata": {
            "needs_background": "light"
          }
        }
      ]
    },
    {
      "cell_type": "code",
      "source": [
        "# 각각 순서대로 MBTI 예측\n",
        "\n",
        "import warnings\n",
        "warnings.filterwarnings('ignore')\n",
        "\n",
        "# E/I Q : 1,8,12,13,16\n",
        "answer = [[3,2,7,1,2]]\n",
        "my_predict = random_forest_best_1.predict(answer)\n",
        "print('First letter of MBTI is : ', lab_1.inverse_transform(my_predict))\n",
        "\n",
        "# N/S Q : 2,7,14,15\n",
        "answer = [[2,5,1,3]]\n",
        "my_predict = random_forest_best_2.predict(answer)\n",
        "print('Second letter of MBTI is : ', lab_2.inverse_transform(my_predict))\n",
        "\n",
        "# T/F Q : 3,6,10\n",
        "answer = [[1,7,7]]\n",
        "my_predict = random_forest_best_3.predict(answer)\n",
        "print('Third letter of MBTI is : ', lab_3.inverse_transform(my_predict))\n",
        "\n",
        "# P/J Q : 4,5,9,11\n",
        "answer = [[6,6,5,2]]\n",
        "my_predict = random_forest_best_4.predict(answer)\n",
        "print('Fourth letter of MBTI is : ', lab_4.inverse_transform(my_predict))\n"
      ],
      "metadata": {
        "colab": {
          "base_uri": "https://localhost:8080/"
        },
        "id": "7VrrIVd0GbU8",
        "outputId": "9b9764c1-8445-4dba-8828-d41abc456671"
      },
      "execution_count": null,
      "outputs": [
        {
          "output_type": "stream",
          "name": "stdout",
          "text": [
            "First letter of MBTI is :  ['I']\n",
            "Second letter of MBTI is :  ['N']\n",
            "Third letter of MBTI is :  ['F']\n",
            "Fourth letter of MBTI is :  ['J']\n"
          ]
        }
      ]
    }
  ]
}